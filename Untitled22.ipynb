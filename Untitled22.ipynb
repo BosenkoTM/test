{
  "nbformat": 4,
  "nbformat_minor": 0,
  "metadata": {
    "colab": {
      "provenance": [],
      "authorship_tag": "ABX9TyNLggQ0Vc/4H9NF6SQARJw8",
      "include_colab_link": true
    },
    "kernelspec": {
      "name": "python3",
      "display_name": "Python 3"
    },
    "language_info": {
      "name": "python"
    }
  },
  "cells": [
    {
      "cell_type": "markdown",
      "metadata": {
        "id": "view-in-github",
        "colab_type": "text"
      },
      "source": [
        "<a href=\"https://colab.research.google.com/github/BosenkoTM/test/blob/main/Untitled22.ipynb\" target=\"_parent\"><img src=\"https://colab.research.google.com/assets/colab-badge.svg\" alt=\"Open In Colab\"/></a>"
      ]
    },
    {
      "cell_type": "code",
      "execution_count": 1,
      "metadata": {
        "colab": {
          "base_uri": "https://localhost:8080/"
        },
        "id": "2NWZX70cQ33q",
        "outputId": "e5a18302-f3f6-43bf-cf83-16df2e75d989"
      },
      "outputs": [
        {
          "output_type": "stream",
          "name": "stdout",
          "text": [
            "a=2\n",
            "b=3\n",
            "5\n",
            "-1\n",
            "6\n",
            "0.67\n",
            "0\n",
            "2\n",
            "8\n",
            "True\n",
            "True\n",
            "False\n",
            "False\n",
            "True\n",
            "False\n"
          ]
        }
      ],
      "source": [
        "# Задание task_01_01.\n",
        "\"\"\" Составьте программу, которая запрашивает у пользователя 2 целых числа и выполняет операции:\n",
        "•\tарифметические: +, -, * , / , // , %, **;\n",
        "•\tсравнение: <, <=, >, >=, !=, ==,\n",
        "выводя на экран результат каждого действия. В случае получение вещественного результата, округлите его до 2-х знаков после запятой (используя функцию round()).\n",
        "\"\"\"\n",
        "# Выполнил: Фамилия И.О.\n",
        "# Группа: !!!\n",
        "\n",
        "a = int(input(\"a=\"))\n",
        "b = int(input(\"b=\"))\n",
        "\n",
        "# Арифметические операции\n",
        "print(a + b)      # сложение\n",
        "print(a - b)      # вычитание\n",
        "print(a * b)      # умножение\n",
        "print(round(a / b, 2))  # деление (с округлением до 2 знаков)\n",
        "print(a // b)     # целочисленное деление\n",
        "print(a % b)      # остаток от деления\n",
        "print(a ** b)     # возведение в степень\n",
        "\n",
        "# Операции сравнения\n",
        "print(a < b)      # меньше\n",
        "print(a <= b)     # меньше или равно\n",
        "print(a > b)      # больше\n",
        "print(a >= b)     # больше или равно\n",
        "print(a != b)     # не равно\n",
        "print(a == b)     # равно"
      ]
    }
  ]
}